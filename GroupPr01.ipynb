{
 "cells": [
  {
   "cell_type": "code",
   "execution_count": 1,
   "metadata": {
    "scrolled": true
   },
   "outputs": [
    {
     "name": "stderr",
     "output_type": "stream",
     "text": [
      "[nltk_data] Downloading package stopwords to\n",
      "[nltk_data]     C:\\Users\\chinalife\\AppData\\Roaming\\nltk_data...\n",
      "[nltk_data]   Package stopwords is already up-to-date!\n",
      "[nltk_data] Downloading package wordnet to\n",
      "[nltk_data]     C:\\Users\\chinalife\\AppData\\Roaming\\nltk_data...\n",
      "[nltk_data]   Package wordnet is already up-to-date!\n"
     ]
    }
   ],
   "source": [
    "import numpy as np\n",
    "import pandas as pd\n",
    "import scipy.sparse as sp\n",
    "%matplotlib inline\n",
    "import matplotlib.pyplot as plt\n",
    "from collections import defaultdict\n",
    "import json\n",
    "from collections import Counter, defaultdict\n",
    "from scipy.sparse import csr_matrix\n",
    "import nltk\n",
    "from nltk.stem import PorterStemmer\n",
    "from nltk.stem import WordNetLemmatizer\n",
    "nltk.download('stopwords')\n",
    "nltk.download('wordnet')\n",
    "from nltk.corpus import stopwords\n",
    "stop_words = set(stopwords.words('english'))\n",
    "import math\n",
    "from sklearn.metrics import f1_score\n"
   ]
  },
  {
   "cell_type": "code",
   "execution_count": 20,
   "metadata": {},
   "outputs": [
    {
     "name": "stdout",
     "output_type": "stream",
     "text": [
      "<class 'pandas.core.frame.DataFrame'>\n",
      "RangeIndex: 878561 entries, 0 to 878560\n",
      "Data columns (total 21 columns):\n",
      " #   Column              Non-Null Count   Dtype  \n",
      "---  ------              --------------   -----  \n",
      " 0   service             760918 non-null  float64\n",
      " 1   cleanliness         759835 non-null  float64\n",
      " 2   overall             878561 non-null  float64\n",
      " 3   value               753695 non-null  float64\n",
      " 4   location            664904 non-null  float64\n",
      " 5   sleep_quality       500903 non-null  float64\n",
      " 6   rooms               705404 non-null  float64\n",
      " 7   username            878561 non-null  object \n",
      " 8   num_cities          613968 non-null  float64\n",
      " 9   user_helpful_votes  653980 non-null  float64\n",
      " 10  num_reviews         801438 non-null  float64\n",
      " 11  num_type_reviews    515610 non-null  float64\n",
      " 12  user_id             878561 non-null  object \n",
      " 13  user_location       878561 non-null  object \n",
      " 14  date_stayed         810973 non-null  object \n",
      " 15  offering_id         878561 non-null  int64  \n",
      " 16  num_helpful_votes   878561 non-null  int64  \n",
      " 17  date                878561 non-null  object \n",
      " 18  id                  878561 non-null  object \n",
      " 19  via_mobile          878561 non-null  bool   \n",
      " 20  text_len            878561 non-null  int64  \n",
      "dtypes: bool(1), float64(11), int64(3), object(6)\n",
      "memory usage: 134.9+ MB\n"
     ]
    }
   ],
   "source": [
    "#####making df\n",
    "column_names = [\"service\", \"cleanliness\",\"overall\", \"value\",\"location\",\"sleep_quality\",\n",
    "                \"rooms\",\"username\",\"num_cities\",\"user_num_helpful_votes\",\"num_reviews\",\n",
    "                \"num_type_reviews\",\"user_id\",\"user_location\",\"date_stayed\",\"offering_id\",\n",
    "               \"num_helpful_votes\",\"date\",\"id\",\"via_mobile\",\"text_len\"]\n",
    "#df = pd.DataFrame(columns = column_names)\n",
    "service = []\n",
    "cleanliness = []\n",
    "overall = []\n",
    "value = []\n",
    "location = []\n",
    "sleep_quality = []\n",
    "rooms = []\n",
    "username = []\n",
    "num_cities = []\n",
    "user_helpful_votes = []\n",
    "num_reviews = []\n",
    "num_type_reviews = []\n",
    "user_id = []\n",
    "user_location = []\n",
    "date_stayed = []\n",
    "offering_id = []\n",
    "num_helpful_votes = []\n",
    "date = []\n",
    "ids = []\n",
    "via_mobile = []\n",
    "text_len = []\n",
    "#print(df.head())\n",
    "#print(df.info())\n",
    "#print(df)\n",
    "#Y1=np.array(df[\"service\"])\n",
    "with open(\"review.txt\", \"r\",encoding='UTF') as fh:\n",
    "    i=1\n",
    "    for f in fh:\n",
    "        f = f.replace('\\n', '')\n",
    "        f = f.strip()\n",
    "        kk=json.loads(f)\n",
    "       # print(kk)\n",
    "        service.append( kk['ratings'].get('service', None))\n",
    "        cleanliness.append(kk['ratings'].get('cleanliness', None))\n",
    "        overall.append(kk[\"ratings\"][\"overall\"])\n",
    "        value.append(kk['ratings'].get('value', None))\n",
    "        location.append(kk['ratings'].get('location', None))\n",
    "        sleep_quality.append(kk['ratings'].get('sleep_quality', None))\n",
    "        rooms.append(kk['ratings'].get('rooms', None))\n",
    "        username.append(kk[\"author\"][\"username\"])\n",
    "        num_cities.append(kk['author'].get('num_cities', None))\n",
    "        user_helpful_votes.append(kk['author'].get('num_helpful_votes', None))\n",
    "        num_reviews.append(kk['author'].get('num_reviews', None))\n",
    "        num_type_reviews.append(kk['author'].get('num_type_reviews', None))\n",
    "        user_id.append(kk[\"author\"][\"id\"])\n",
    "        user_location.append(kk['author'].get('location', None))\n",
    "        date_stayed.append(kk.get('date_stayed', None))\n",
    "        offering_id.append(kk[\"offering_id\"])\n",
    "        num_helpful_votes.append(kk[\"num_helpful_votes\"])\n",
    "        date.append(kk[\"date\"])\n",
    "        ids.append(kk[\"id\"])\n",
    "        via_mobile.append(kk[\"via_mobile\"])\n",
    "        #text_len.append(len(kk[\"text\"]) if len(kk[\"text\"])>100 else None )\n",
    "        text_len.append(len(kk[\"text\"]) )\n",
    "        i+=1\n",
    "        if(i>878561):\n",
    "            break\n",
    "df_column = {\"service\":service, \"cleanliness\":cleanliness,\"overall\":overall, \"value\":value,\"location\":location,\"sleep_quality\":sleep_quality,\n",
    "                \"rooms\":rooms,\"username\":username,\"num_cities\":num_cities,\"user_helpful_votes\":user_helpful_votes,\"num_reviews\":num_reviews,\n",
    "                \"num_type_reviews\":num_type_reviews,\"user_id\":user_id,\"user_location\":user_location,\"date_stayed\":date_stayed,\"offering_id\":offering_id,\n",
    "             \"num_helpful_votes\":num_helpful_votes,\"date\":date,\"id\":user_id,\"via_mobile\":via_mobile,\"text_len\":text_len}\n",
    "df = pd.DataFrame(df_column)\n",
    "df.head()\n",
    "df.info()"
   ]
  },
  {
   "cell_type": "code",
   "execution_count": null,
   "metadata": {},
   "outputs": [],
   "source": [
    "df[\"overall\"].describe()\n",
    "df[\"overall\"].unique()\n",
    "df[\"overall\"].value_counts()\n",
    "df[\"user_location\"].value_counts()[0:500]\n",
    "#df[\"user_helpful_votes\"].value_counts()\n",
    "#df[\"num_cities\"].value_counts()[:5]"
   ]
  },
  {
   "cell_type": "code",
   "execution_count": 17,
   "metadata": {},
   "outputs": [
    {
     "data": {
      "text/plain": [
       "count    878561.000000\n",
       "mean          1.153104\n",
       "std           2.898120\n",
       "min           0.000000\n",
       "25%           0.000000\n",
       "50%           0.000000\n",
       "75%           1.000000\n",
       "max         515.000000\n",
       "Name: num_helpful_votes, dtype: float64"
      ]
     },
     "execution_count": 17,
     "metadata": {},
     "output_type": "execute_result"
    }
   ],
   "source": [
    "df[\"num_helpful_votes\"].describe()"
   ]
  },
  {
   "cell_type": "code",
   "execution_count": 18,
   "metadata": {},
   "outputs": [
    {
     "data": {
      "text/plain": [
       "count    653980.000000\n",
       "mean         20.727658\n",
       "std          40.328408\n",
       "min           1.000000\n",
       "25%           3.000000\n",
       "50%           8.000000\n",
       "75%          22.000000\n",
       "max         964.000000\n",
       "Name: user_helpful_votes, dtype: float64"
      ]
     },
     "execution_count": 18,
     "metadata": {},
     "output_type": "execute_result"
    }
   ],
   "source": [
    "df[\"user_helpful_votes\"].describe()"
   ]
  },
  {
   "cell_type": "code",
   "execution_count": 21,
   "metadata": {},
   "outputs": [
    {
     "data": {
      "text/plain": [
       "count    878561.000000\n",
       "mean        801.952391\n",
       "std         672.407316\n",
       "min           4.000000\n",
       "25%         373.000000\n",
       "50%         619.000000\n",
       "75%        1006.000000\n",
       "max       22387.000000\n",
       "Name: text_len, dtype: float64"
      ]
     },
     "execution_count": 21,
     "metadata": {},
     "output_type": "execute_result"
    }
   ],
   "source": [
    "df[\"text_len\"].describe()"
   ]
  },
  {
   "cell_type": "code",
   "execution_count": null,
   "metadata": {},
   "outputs": [],
   "source": [
    "%matplotlib inline\n",
    "import seaborn as sns\n",
    "from matplotlib import pyplot as plt\n",
    "plt.figure(figsize=(12,9))\n",
    "sns.swarmplot(x=\"text_len\", y=\"user_location\",hue=\"overall\",data=df[::1000],size=12)"
   ]
  },
  {
   "cell_type": "code",
   "execution_count": null,
   "metadata": {},
   "outputs": [],
   "source": []
  },
  {
   "cell_type": "code",
   "execution_count": null,
   "metadata": {},
   "outputs": [],
   "source": []
  }
 ],
 "metadata": {
  "kernelspec": {
   "display_name": "Python 3",
   "language": "python",
   "name": "python3"
  }
 },
 "nbformat": 4,
 "nbformat_minor": 4
}
